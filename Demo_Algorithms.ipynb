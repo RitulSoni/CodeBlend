{
 "cells": [
  {
   "cell_type": "markdown",
   "metadata": {},
   "source": [
    "# Code Parsing"
   ]
  },
  {
   "cell_type": "code",
   "execution_count": 2,
   "metadata": {},
   "outputs": [
    {
     "name": "stdout",
     "output_type": "stream",
     "text": [
      "['\\n', 'def foo(){\\n', '    def bar() {\\n', '        print\\n', '    }\\n', '    bar\\n', '}\\n']\n",
      "[0, 1, 2, 2, 1, 1, 0]\n"
     ]
    }
   ],
   "source": [
    "from utils.stringutils import compute_nested_levels, linewise_tokenize, wordwise_tokenize\n",
    "\n",
    "code = \"\"\"\n",
    "def foo(){\n",
    "    def bar() {\n",
    "        print\n",
    "    }\n",
    "    bar\n",
    "}\n",
    "\"\"\"\n",
    "tokens = linewise_tokenize(code)\n",
    "print(tokens)\n",
    "levels = compute_nested_levels(tokens, indent_is_relevant=False)\n",
    "print(levels)"
   ]
  },
  {
   "cell_type": "code",
   "execution_count": 3,
   "metadata": {},
   "outputs": [
    {
     "data": {
      "text/plain": [
       "[0, 2, 1, -1, -1, -1, 0]"
      ]
     },
     "execution_count": 3,
     "metadata": {},
     "output_type": "execute_result"
    }
   ],
   "source": [
    "def compute_derivative_array(list):\n",
    "    '''list is a list of numbers that ascend and descend.'''\n",
    "    derivative = [0]\n",
    "    for i in range(1, len(list) - 1):\n",
    "        derivative.append(list[i+1] - list[i-1])\n",
    "    derivative.append(0)\n",
    "    return derivative\n",
    "\n",
    "compute_derivative_array(levels)"
   ]
  },
  {
   "cell_type": "code",
   "execution_count": 4,
   "metadata": {},
   "outputs": [
    {
     "name": "stdout",
     "output_type": "stream",
     "text": [
      "['    ', 'final', ' ', 'coded', ' ', '=', ' ', 'events', '.', 'map', '((', 'e', ')', ' ', '=>', ' ', 'e', '.', 'toJson', '()).', 'toList', '();']\n"
     ]
    }
   ],
   "source": [
    "from utils.stringutils import wordwise_tokenize, linewise_tokenize\n",
    "\n",
    "line = \"    final coded = events.map((e) => e.toJson()).toList();\"\n",
    "tokens = wordwise_tokenize(line)\n",
    "print(tokens)"
   ]
  },
  {
   "cell_type": "markdown",
   "metadata": {},
   "source": [
    "# Code Lookup"
   ]
  },
  {
   "cell_type": "code",
   "execution_count": 5,
   "metadata": {},
   "outputs": [],
   "source": [
    "from utils.stringutils import linewise_tokenize, wordwise_tokenize, edit_distance"
   ]
  },
  {
   "cell_type": "code",
   "execution_count": 6,
   "metadata": {},
   "outputs": [],
   "source": [
    "database = \"\"\"\n",
    "def flat_assignment():\n",
    "arr = np.empty((3,), dtype=dtype)\n",
    "values = np.array([value, value, value])\n",
    "arr.flat[:] = values\n",
    "yield flat_assignment\n",
    "@pytest.mark.skipif(IS_WASM, reason=\"no wasm fp exception support\")\n",
    "@pytest.mark.parametrize([\"value\", \"dtype\"], values_and_dtypes())\n",
    "@pytest.mark.filterwarnings(\"ignore::numpy.exceptions.ComplexWarning\")\n",
    "def test_floatingpoint_errors_casting(dtype, value):\n",
    "dtype = np.dtype(dtype)\n",
    "for operation in check_operations(dtype, value):\n",
    "dtype = np.dtype(dtype)\n",
    "match = \"invalid\" if dtype.kind in 'iu' else \"overflow\"\n",
    "with pytest.warns(RuntimeWarning, match=match):\n",
    "operation()\n",
    "with np.errstate(all=\"raise\"):\n",
    "with pytest.raises(FloatingPointError, match=match):\n",
    "operation()\n",
    "\"\"\""
   ]
  },
  {
   "cell_type": "code",
   "execution_count": 7,
   "metadata": {},
   "outputs": [],
   "source": [
    "import numpy as np\n",
    "from collections import defaultdict\n",
    "from utils.stringutils import edit_distance\n",
    "from matplotlib import pyplot as plt\n",
    "\n",
    "def score(a, b):\n",
    "    max_len = max(len(''.join(a)), len(''.join(b)))\n",
    "    if max_len == 0: return 1\n",
    "    diff = edit_distance(a, b)\n",
    "    return 1 - (diff / max_len)\n",
    "\n",
    "def weighted_score(a, b):\n",
    "    return score(a, b) * np.mean([len(a), len(b)])\n",
    "\n",
    "db_kmers_cache = {}\n",
    "\n",
    "def ktuple_matching(query, database, k, part_processing=None):\n",
    "    global db_kmers_cache\n",
    "    if not part_processing:\n",
    "        part_processing = lambda x: x\n",
    "    if (''.join(database), k) in db_kmers_cache:\n",
    "        database_kmers = db_kmers_cache[(''.join(database), k)]\n",
    "    else:\n",
    "        database_kmers = defaultdict(list)\n",
    "        for i in range(len(database) - k + 1):\n",
    "            kmer = ''.join(part_processing(part) for part in database[i:i+k])\n",
    "            if ''.join(kmer) ==  '': continue\n",
    "            database_kmers[kmer].append(i)\n",
    "        db_kmers_cache[(''.join(database), k)] = database_kmers\n",
    "    \n",
    "    matches = []\n",
    "    for i in range(len(query) - k + 1):\n",
    "        kmer = ''.join(part_processing(part) for part in query[i:i+k])\n",
    "        if ''.join(kmer) == '': continue\n",
    "        if kmer in database_kmers:\n",
    "            for db_pos in database_kmers[kmer]:\n",
    "                matches.append((i, db_pos))\n",
    "    return matches\n",
    "\n",
    "def find_top_diagonal(matches, query, database, k):\n",
    "    diagonal_scores = defaultdict(int)\n",
    "    for q_pos, db_pos in matches:\n",
    "        diag = q_pos - db_pos\n",
    "        diagonal_scores[diag] += np.mean([weighted_score(q, db) for q, db in zip(query[q_pos:q_pos+k], database[db_pos:db_pos+k])])\n",
    "    top_diagonal = max(diagonal_scores.items(), key=lambda item: item[1], default=(None, 0))\n",
    "    return top_diagonal[0]\n",
    "\n",
    "def smith_waterman_diagonal(\n",
    "        query,\n",
    "        database,\n",
    "        match_score=3,\n",
    "        mismatch_penalty=3,\n",
    "        gap_penalty=2,\n",
    "        processing=None,\n",
    "        tolerance=0.8,\n",
    "        diag=0,\n",
    "        band_width=5,\n",
    "        db_token_depth_roc=None,\n",
    "        query_token_depth_roc=None\n",
    "    ):\n",
    "    m, n = len(query), len(database)\n",
    "    \n",
    "    scoring_matrix, traceback_matrix = defaultdict(int), defaultdict(int)\n",
    "    if diag >= 0:\n",
    "        start_row = 1\n",
    "        start_col = -diag\n",
    "    else:\n",
    "        start_row = diag\n",
    "        start_col = 1\n",
    "\n",
    "    max_score = 0\n",
    "    max_pos = (0, 0)\n",
    "    covered = []\n",
    "    while start_row <= m and start_col <= n:\n",
    "        for offset in range(-band_width, band_width + 1):\n",
    "            row, col = start_row, start_col + offset\n",
    "            if not (0 < row <= m and 0 < col <= n): continue\n",
    "            q, d = query[row-1], database[col-1]\n",
    "            covered.append((row - 1, col - 1))\n",
    "            if processing:\n",
    "                q, d = processing(q), processing(d)\n",
    "            multiplier = 1 + np.mean([len(q), len(d)]) / 2\n",
    "            match = scoring_matrix[(row-1, col-1)] + (match_score if score(q, d) >= tolerance else -mismatch_penalty) * multiplier\n",
    "            insert = scoring_matrix[(row, col-1)] - gap_penalty * multiplier\n",
    "            scoring_matrix[(row, col)] = max(match, insert)\n",
    "\n",
    "            if scoring_matrix[(row, col)] == match:\n",
    "                traceback_matrix[(row, col)] = 1\n",
    "            elif scoring_matrix[(row, col)] == insert:\n",
    "                traceback_matrix[(row, col)] = 3\n",
    "            \n",
    "            if scoring_matrix[(row, col)] >= max_score:\n",
    "                max_score = scoring_matrix[(row, col)]\n",
    "                max_pos = (row, col)\n",
    "        start_row += 1\n",
    "        start_col += 1\n",
    "\n",
    "    # Traceback to get the optimal alignment\n",
    "    align1, align2 = [], []\n",
    "    i, j = max_pos\n",
    "    while scoring_matrix[(i, j)] > 0:\n",
    "        q, d = query[i - 1], database[j - 1]\n",
    "        if traceback_matrix[(i, j)] == 1:\n",
    "            align1.insert(0, q)\n",
    "            align2.insert(0, d)\n",
    "            i -= 1\n",
    "            j -= 1\n",
    "        elif traceback_matrix[(i, j)] == 3:\n",
    "            align2.insert(0, d)\n",
    "            align1.insert(0, '-')\n",
    "            j -= 1\n",
    "    return align2, max_score, covered\n",
    "\n",
    "def fasta_algorithm(database, query, k=4, n=3, band_width=5, match_score=3, mismatch_penalty=3, gap_penalty=1, match_processing=None, dp_processing=None, db_token_depth_roc=None, query_token_depth_roc=None, debug=False):\n",
    "    matches = ktuple_matching(query, database, k, match_processing)\n",
    "    if debug:\n",
    "        matrix = np.zeros((len(query), len(database)))\n",
    "        for q, d in matches:\n",
    "            matrix[q, d] = 1\n",
    "        plt.imshow(matrix, cmap='hot', interpolation='nearest')\n",
    "        plt.show()\n",
    "    top_diagonal = find_top_diagonal(matches, query, database, k)\n",
    "    if top_diagonal is None: return None, float('-inf')\n",
    "    best_alignment, best_score, covered = smith_waterman_diagonal(\n",
    "        query,\n",
    "        database,\n",
    "        match_score=match_score,\n",
    "        mismatch_penalty=mismatch_penalty,\n",
    "        gap_penalty=gap_penalty,\n",
    "        processing=dp_processing,\n",
    "        diag=top_diagonal,\n",
    "        band_width=band_width,\n",
    "        db_token_depth_roc=db_token_depth_roc,\n",
    "        query_token_depth_roc=query_token_depth_roc\n",
    "    )\n",
    "    if debug:\n",
    "        matrix = np.zeros((len(query), len(database)))\n",
    "        for q, d in covered:\n",
    "            matrix[q, d] = 1\n",
    "        plt.imshow(matrix, cmap='hot', interpolation='nearest')\n",
    "        plt.show()\n",
    "    if best_alignment is None:\n",
    "        return None, float('-inf')\n",
    "    return best_alignment, best_score"
   ]
  },
  {
   "cell_type": "code",
   "execution_count": 8,
   "metadata": {},
   "outputs": [],
   "source": [
    "query = \"\"\" def test_floatingpoint_errors_casting(dtype, value):\n",
    "     dtype = np.dtype(dtype)\n",
    "     for operation in check_operations(dtype, value):\n",
    "         dtype = np.dtype(dtype)\n",
    "         match = \"invalid\" if dtype.kind in 'iu' else \"overflow\"\n",
    "         with pytest.warns(RuntimeWarning, match=match):\"\"\""
   ]
  },
  {
   "cell_type": "code",
   "execution_count": 9,
   "metadata": {},
   "outputs": [
    {
     "data": {
      "image/png": "[encoded data removed]",
      "text/plain": [
       "<Figure size 640x480 with 1 Axes>"
      ]
     },
     "metadata": {},
     "output_type": "display_data"
    },
    {
     "data": {
      "image/png": "[encoded data removed]",
      "text/plain": [
       "<Figure size 640x480 with 1 Axes>"
      ]
     },
     "metadata": {},
     "output_type": "display_data"
    },
    {
     "data": {
      "image/png": "[encoded data removed]",
      "text/plain": [
       "<Figure size 640x480 with 1 Axes>"
      ]
     },
     "metadata": {},
     "output_type": "display_data"
    },
    {
     "data": {
      "image/png": "[encoded data removed]",
      "text/plain": [
       "<Figure size 640x480 with 1 Axes>"
      ]
     },
     "metadata": {},
     "output_type": "display_data"
    },
    {
     "name": "stdout",
     "output_type": "stream",
     "text": [
      "Closest substring in database to query:\n",
      " def test_floatingpoint_errors_casting(dtype, value):\n",
      "dtype = np.dtype(dtype)\n",
      "for operation in check_operations(dtype, value):\n",
      "dtype = np.dtype(dtype)\n",
      "match = \"invalid\" if dtype.kind in 'iu' else \"overflow\"\n",
      "with pytest.warns(RuntimeWarning, match=match):\n",
      "0.8694158075601375\n",
      "347\n"
     ]
    }
   ],
   "source": [
    "def fuzzy_find(query, database, debug=False):\n",
    "    # 1. First pass with linewise tokenization\n",
    "    linewise_tokenized_database = linewise_tokenize(database)\n",
    "    linewise_tokenized_query = linewise_tokenize(query)\n",
    "\n",
    "    result, score = fasta_algorithm(\n",
    "        linewise_tokenized_database,\n",
    "        linewise_tokenized_query,\n",
    "        k=1,\n",
    "        n=1,\n",
    "        band_width=10,\n",
    "        match_score=3,\n",
    "        mismatch_penalty=0.7,\n",
    "        gap_penalty=0.1,\n",
    "        match_processing=lambda x: x.strip().replace(' ', ''),\n",
    "        dp_processing=lambda x: wordwise_tokenize(x.strip().replace(' ', '')),\n",
    "        debug=debug\n",
    "    )\n",
    "\n",
    "    # 2. Second pass with wordwise tokenization\n",
    "    worwise_tokenized_database = wordwise_tokenize(''.join(result)) if result is not None else wordwise_tokenize(database)\n",
    "    wordwise_tokenized_query = wordwise_tokenize(query)\n",
    "\n",
    "    result, score = fasta_algorithm(\n",
    "        worwise_tokenized_database,\n",
    "        wordwise_tokenized_query,\n",
    "        k=max(1, min(3, len(wordwise_tokenized_query) - 1, len(worwise_tokenized_database) - 1)),\n",
    "        n=1,\n",
    "        band_width=18,\n",
    "        match_score=5,\n",
    "        mismatch_penalty=0.6,\n",
    "        gap_penalty=0.3,\n",
    "        match_processing=lambda x: x.strip(),\n",
    "        dp_processing=lambda x: x.strip(),\n",
    "        debug=debug\n",
    "    )\n",
    "\n",
    "    if result is None:\n",
    "        return None, float('-inf')\n",
    "    return ''.join(result), score\n",
    "\n",
    "# Example usage:\n",
    "result, _ = fuzzy_find(query, database, debug=True)\n",
    "print(\"Closest substring in database to query:\\n\", result)\n",
    "print(score(result, query))\n",
    "print(database.find(result))"
   ]
  },
  {
   "cell_type": "code",
   "execution_count": 10,
   "metadata": {},
   "outputs": [],
   "source": [
    "diff = \"\"\" with pytest.warns(RuntimeWarning, match=match):\n",
    " operation()\n",
    " with np.errstate(all=\"raise\"):\n",
    "-    with pytest.raises(FloatingPointError, match=match):\n",
    "+    with pytest.raises(FloatingPointError, match=\"foo\"):\n",
    "         operation()\"\"\""
   ]
  },
  {
   "cell_type": "code",
   "execution_count": 11,
   "metadata": {},
   "outputs": [],
   "source": [
    "def parse_diff(diff_string):\n",
    "    lines = diff_string.splitlines(keepends=True)\n",
    "    groups = []\n",
    "    current_group = []\n",
    "    in_edit = False\n",
    "\n",
    "    for line in lines:\n",
    "        if line.startswith('+') or line.startswith('-'):\n",
    "            if not in_edit and current_group:\n",
    "                groups.append(current_group)\n",
    "                current_group = []\n",
    "            current_group.append(line)\n",
    "            in_edit = True\n",
    "        else:\n",
    "            if in_edit and current_group:\n",
    "                groups.append(current_group)\n",
    "                current_group = []\n",
    "            current_group.append(line)\n",
    "            in_edit = False\n",
    "    \n",
    "    if current_group:\n",
    "        groups.append(current_group)\n",
    "    \n",
    "    merged_groups = []\n",
    "    for group in groups:\n",
    "        if not (group[0].startswith('+') or group[0].startswith('-')):\n",
    "            merged_groups.append('\\n'.join(group))\n",
    "        else:\n",
    "            delete, insert = '', ''\n",
    "            for line in group:\n",
    "                if line.startswith('-'):\n",
    "                    delete += line[1:] + '\\n'\n",
    "                elif line.startswith('+'):\n",
    "                    insert += line[1:] + '\\n'\n",
    "            merged_groups.append((delete, insert))\n",
    "\n",
    "    return merged_groups"
   ]
  },
  {
   "cell_type": "code",
   "execution_count": 12,
   "metadata": {},
   "outputs": [],
   "source": [
    "import numpy as np\n",
    "import re\n",
    "\n",
    "def skwonk(database: str, diff: str):\n",
    "    hunks = re.split(r\"@@.*?@@\", diff)\n",
    "    i = 0\n",
    "    for hunk in hunks:\n",
    "        original = ''.join([line for line in hunk.splitlines(keepends=True) if not line.startswith('+')])\n",
    "        # 1. Zone in on the string we are going to be editing\n",
    "        zone, _ = fuzzy_find(original, database[i:])\n",
    "        i = database.find(zone) + len(zone)\n",
    "        original_zone = zone\n",
    "\n",
    "        if zone is None:\n",
    "            print(\"No similar substring found in database\")\n",
    "            return database\n",
    "        \n",
    "        # 2. Parse the diff into groups\n",
    "        diff_groups = parse_diff(hunk)\n",
    "        # 3. Find and replace\n",
    "        for i in range(len(diff_groups)):\n",
    "            group = diff_groups[i]\n",
    "            if not isinstance(group, tuple): continue\n",
    "            find, replace = group\n",
    "            if find == '':\n",
    "                # Insertion\n",
    "                prior_context = fuzzy_find(diff_groups[i - 1], zone)[0] if i > 0 else None\n",
    "                further_context = fuzzy_find(diff_groups[i + 1], zone)[0] if i < len(diff_groups) - 1 else None\n",
    "                insertion_index = zone.find(prior_context) + len(prior_context) if prior_context else None\n",
    "                if not insertion_index:\n",
    "                    insertion_index = zone.find(further_context) if further_context else 0\n",
    "                print(f\"Inserting {replace} at index {insertion_index}\")\n",
    "                zone = zone[:insertion_index] + replace + zone[insertion_index:]\n",
    "            else:\n",
    "                # Fuzzy find and replace\n",
    "                fuzz, _ = fuzzy_find(find, zone)\n",
    "                if fuzz is None: continue\n",
    "                zone = zone.replace(fuzz, replace, 1)\n",
    "        database = database.replace(original_zone, zone, 1)\n",
    "    return database"
   ]
  },
  {
   "cell_type": "code",
   "execution_count": 13,
   "metadata": {},
   "outputs": [
    {
     "name": "stdout",
     "output_type": "stream",
     "text": [
      "\n",
      "def flat_assignment():\n",
      "arr = np.empty((3,), dtype=dtype)\n",
      "values = np.array([value, value, value])\n",
      "arr.flat[:] = values\n",
      "yield flat_assignment\n",
      "@pytest.mark.skipif(IS_WASM, reason=\"no wasm fp exception support\")\n",
      "@pytest.mark.parametrize([\"value\", \"dtype\"], values_and_dtypes())\n",
      "@pytest.mark.filterwarnings(\"ignore::numpy.exceptions.ComplexWarning\")\n",
      "def test_floatingpoint_errors_casting(dtype, value):\n",
      "dtype = np.dtype(dtype)\n",
      "for operation in check_operations(dtype, value):\n",
      "dtype = np.dtype(dtype)\n",
      "match = \"invalid\" if dtype.kind in 'iu' else \"overflow\"\n",
      "with pytest.warns(RuntimeWarning, match=match):\n",
      "operation()\n",
      "with np.errstate(all=\"raise\"):    with pytest.raises(FloatingPointError, match=\"foo\"):\n",
      "\n",
      "match):\n",
      "operation()\n",
      "\n"
     ]
    }
   ],
   "source": [
    "import difflib\n",
    "new_database = skwonk(database, diff)\n",
    "print(new_database)"
   ]
  },
  {
   "cell_type": "markdown",
   "metadata": {},
   "source": [
    "### Skwonk Algorithm Analysis"
   ]
  },
  {
   "cell_type": "code",
   "execution_count": 14,
   "metadata": {},
   "outputs": [],
   "source": [
    "import time, random, tqdm, numpy as np\n",
    "import difflib\n",
    "\n",
    "def analyze_skwonk(start_length=0, stop_length=2000, step_length=1, batch_length=35, corpus=database):\n",
    "    times = []\n",
    "    accuracies = []\n",
    "    for length in tqdm.tqdm(range(start_length, stop_length, step_length)):\n",
    "        sub_times = []\n",
    "        sub_accuracies = []\n",
    "        for _ in range(batch_length):\n",
    "            start = random.randint(1, len(corpus.splitlines(keepends=True)) - length)\n",
    "            substring_og = ''.join(corpus.splitlines(keepends=True)[start:start+length])\n",
    "            obfuscated_substring = substring_og\n",
    "            # obfuscate 1% of the characters\n",
    "            obfuscation_rate = 0.01\n",
    "            obfuscated_substring = ''.join([c if random.random() > obfuscation_rate else ' ' for c in obfuscated_substring])\n",
    "            start_time = time.time()\n",
    "            best_match, best_score = fuzzy_find(obfuscated_substring, corpus)\n",
    "            if not best_match: continue\n",
    "            sub_times.append(time.time() - start_time)\n",
    "            sub_accuracies.append(difflib.SequenceMatcher(None, substring_og, best_match).ratio())\n",
    "        if len(sub_times) != 0 and len(sub_accuracies) != 0:\n",
    "            times.append(np.mean(sub_times))\n",
    "            accuracies.append(np.mean(sub_accuracies))\n",
    "    return times, accuracies"
   ]
  },
  {
   "cell_type": "code",
   "execution_count": 17,
   "metadata": {},
   "outputs": [
    {
     "name": "stderr",
     "output_type": "stream",
     "text": [
      "  0%|          | 0/25 [00:00<?, ?it/s]\n"
     ]
    },
    {
     "ename": "ValueError",
     "evalue": "empty range in randrange(1, -30)",
     "output_type": "error",
     "traceback": [
      "\u001b[0;31m---------------------------------------------------------------------------\u001b[0m",
      "\u001b[0;31mValueError\u001b[0m                                Traceback (most recent call last)",
      "Cell \u001b[0;32mIn[17], line 3\u001b[0m\n\u001b[1;32m      1\u001b[0m \u001b[38;5;28;01mfrom\u001b[39;00m \u001b[38;5;21;01mmatplotlib\u001b[39;00m \u001b[38;5;28;01mimport\u001b[39;00m pyplot \u001b[38;5;28;01mas\u001b[39;00m plt\n\u001b[0;32m----> 3\u001b[0m times, accuracies \u001b[38;5;241m=\u001b[39m analyze_skwonk(start_length\u001b[38;5;241m=\u001b[39m\u001b[38;5;241m50\u001b[39m, stop_length\u001b[38;5;241m=\u001b[39m\u001b[38;5;241m100\u001b[39m, step_length\u001b[38;5;241m=\u001b[39m\u001b[38;5;241m2\u001b[39m, batch_length\u001b[38;5;241m=\u001b[39m\u001b[38;5;241m30\u001b[39m)\n\u001b[1;32m      4\u001b[0m plt\u001b[38;5;241m.\u001b[39mplot(times)\n\u001b[1;32m      5\u001b[0m plt\u001b[38;5;241m.\u001b[39mxlabel(\u001b[38;5;124m\"\u001b[39m\u001b[38;5;124mLength of Substring\u001b[39m\u001b[38;5;124m\"\u001b[39m)\n",
      "Cell \u001b[0;32mIn[14], line 11\u001b[0m, in \u001b[0;36manalyze_skwonk\u001b[0;34m(start_length, stop_length, step_length, batch_length, corpus)\u001b[0m\n\u001b[1;32m      9\u001b[0m sub_accuracies \u001b[38;5;241m=\u001b[39m []\n\u001b[1;32m     10\u001b[0m \u001b[38;5;28;01mfor\u001b[39;00m _ \u001b[38;5;129;01min\u001b[39;00m \u001b[38;5;28mrange\u001b[39m(batch_length):\n\u001b[0;32m---> 11\u001b[0m     start \u001b[38;5;241m=\u001b[39m random\u001b[38;5;241m.\u001b[39mrandint(\u001b[38;5;241m1\u001b[39m, \u001b[38;5;28mlen\u001b[39m(corpus\u001b[38;5;241m.\u001b[39msplitlines(keepends\u001b[38;5;241m=\u001b[39m\u001b[38;5;28;01mTrue\u001b[39;00m)) \u001b[38;5;241m-\u001b[39m length)\n\u001b[1;32m     12\u001b[0m     substring_og \u001b[38;5;241m=\u001b[39m \u001b[38;5;124m'\u001b[39m\u001b[38;5;124m'\u001b[39m\u001b[38;5;241m.\u001b[39mjoin(corpus\u001b[38;5;241m.\u001b[39msplitlines(keepends\u001b[38;5;241m=\u001b[39m\u001b[38;5;28;01mTrue\u001b[39;00m)[start:start\u001b[38;5;241m+\u001b[39mlength])\n\u001b[1;32m     13\u001b[0m     obfuscated_substring \u001b[38;5;241m=\u001b[39m substring_og\n",
      "File \u001b[0;32m/opt/anaconda3/lib/python3.12/random.py:336\u001b[0m, in \u001b[0;36mRandom.randint\u001b[0;34m(self, a, b)\u001b[0m\n\u001b[1;32m    332\u001b[0m \u001b[38;5;28;01mdef\u001b[39;00m \u001b[38;5;21mrandint\u001b[39m(\u001b[38;5;28mself\u001b[39m, a, b):\n\u001b[1;32m    333\u001b[0m \u001b[38;5;250m    \u001b[39m\u001b[38;5;124;03m\"\"\"Return random integer in range [a, b], including both end points.\u001b[39;00m\n\u001b[1;32m    334\u001b[0m \u001b[38;5;124;03m    \"\"\"\u001b[39;00m\n\u001b[0;32m--> 336\u001b[0m     \u001b[38;5;28;01mreturn\u001b[39;00m \u001b[38;5;28mself\u001b[39m\u001b[38;5;241m.\u001b[39mrandrange(a, b\u001b[38;5;241m+\u001b[39m\u001b[38;5;241m1\u001b[39m)\n",
      "File \u001b[0;32m/opt/anaconda3/lib/python3.12/random.py:319\u001b[0m, in \u001b[0;36mRandom.randrange\u001b[0;34m(self, start, stop, step)\u001b[0m\n\u001b[1;32m    317\u001b[0m     \u001b[38;5;28;01mif\u001b[39;00m width \u001b[38;5;241m>\u001b[39m \u001b[38;5;241m0\u001b[39m:\n\u001b[1;32m    318\u001b[0m         \u001b[38;5;28;01mreturn\u001b[39;00m istart \u001b[38;5;241m+\u001b[39m \u001b[38;5;28mself\u001b[39m\u001b[38;5;241m.\u001b[39m_randbelow(width)\n\u001b[0;32m--> 319\u001b[0m     \u001b[38;5;28;01mraise\u001b[39;00m \u001b[38;5;167;01mValueError\u001b[39;00m(\u001b[38;5;124mf\u001b[39m\u001b[38;5;124m\"\u001b[39m\u001b[38;5;124mempty range in randrange(\u001b[39m\u001b[38;5;132;01m{\u001b[39;00mstart\u001b[38;5;132;01m}\u001b[39;00m\u001b[38;5;124m, \u001b[39m\u001b[38;5;132;01m{\u001b[39;00mstop\u001b[38;5;132;01m}\u001b[39;00m\u001b[38;5;124m)\u001b[39m\u001b[38;5;124m\"\u001b[39m)\n\u001b[1;32m    321\u001b[0m \u001b[38;5;66;03m# Non-unit step argument supplied.\u001b[39;00m\n\u001b[1;32m    322\u001b[0m \u001b[38;5;28;01mif\u001b[39;00m istep \u001b[38;5;241m>\u001b[39m \u001b[38;5;241m0\u001b[39m:\n",
      "\u001b[0;31mValueError\u001b[0m: empty range in randrange(1, -30)"
     ]
    }
   ],
   "source": [
    "from matplotlib import pyplot as plt\n",
    "\n",
    "times, accuracies = analyze_skwonk(start_length=50, stop_length=100, step_length=2, batch_length=30)\n",
    "plt.plot(times)\n",
    "plt.xlabel(\"Length of Substring\")\n",
    "plt.ylabel(\"Time (s)\")\n",
    "plt.show()\n",
    "plt.plot(accuracies)\n",
    "plt.xlabel(\"Length of Substring\")\n",
    "plt.ylabel(\"Accuracy\")\n",
    "plt.show()"
   ]
  }
 ],
 "metadata": {
  "kernelspec": {
   "display_name": "base",
   "language": "python",
   "name": "python3"
  },
  "language_info": {
   "codemirror_mode": {
    "name": "ipython",
    "version": 3
   },
   "file_extension": ".py",
   "mimetype": "text/x-python",
   "name": "python",
   "nbconvert_exporter": "python",
   "pygments_lexer": "ipython3",
   "version": "3.12.4"
  }
 },
 "nbformat": 4,
 "nbformat_minor": 2
}
